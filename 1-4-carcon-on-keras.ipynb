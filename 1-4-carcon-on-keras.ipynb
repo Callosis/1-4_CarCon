{
 "cells": [
  {
   "cell_type": "code",
   "execution_count": 1,
   "metadata": {
    "_cell_guid": "b1076dfc-b9ad-4769-8c92-a6c4dae69d19",
    "_uuid": "8f2839f25d086af736a60e9eeb907d3b93b6e0e5"
   },
   "outputs": [
    {
     "name": "stderr",
     "output_type": "stream",
     "text": [
      "Using TensorFlow backend.\n"
     ]
    },
    {
     "name": "stdout",
     "output_type": "stream",
     "text": [
      "['X_train.csv', 'sample_submission.csv', 'X_test.csv', 'y_train.csv']\n",
      "['working', 'lib', 'input', 'src']\n"
     ]
    }
   ],
   "source": [
    "# This Python 3 environment comes with many helpful analytics libraries installed\n",
    "# It is defined by the kaggle/python docker image: https://github.com/kaggle/docker-python\n",
    "# For example, here's several helpful packages to load in \n",
    "\n",
    "import numpy as np # linear algebra\n",
    "import pandas as pd # data processing, CSV file I/O (e.g. pd.read_csv)\n",
    "import matplotlib.pyplot as plt\n",
    "import scipy\n",
    "import gc\n",
    "import sklearn\n",
    "from sklearn.preprocessing import MinMaxScaler, OneHotEncoder, LabelEncoder\n",
    "from keras import layers\n",
    "from keras.layers import Input, Add, Subtract, Dense, Activation, ZeroPadding2D, BatchNormalization, Flatten, Conv2D, AveragePooling2D, MaxPooling2D, GlobalMaxPooling2D\n",
    "from keras.models import Model, load_model\n",
    "from keras.optimizers import Adam, Adagrad, SGD\n",
    "\n",
    "\n",
    "\n",
    "# Input data files are available in the \"../input/\" directory.\n",
    "# For example, running this (by clicking run or pressing Shift+Enter) will list the files in the input directory\n",
    "\n",
    "import os\n",
    "print(os.listdir(\"../input\"))\n",
    "print(os.listdir(\"../\"))\n",
    "\n",
    "# Any results you write to the current directory are saved as output.\n",
    "\n",
    "\n",
    "label_conv = [\"carpet\",\"concrete\",\"fine_concrete\",\"hard_tiles\",\"hard_tiles_large_space\",\"soft_pvc\",\"soft_tiles\",\"tiled\",\"wood\"]\n",
    "\n"
   ]
  },
  {
   "cell_type": "code",
   "execution_count": 2,
   "metadata": {
    "_uuid": "70e81ca35a567ba10abfa2ff86f7a89daeeefafa"
   },
   "outputs": [],
   "source": [
    "#TODO 1.1\n",
    "#Create full output for submissions\n",
    "#Add convienence functions, plotting, type changes, etc.\n",
    "#Add competition result evaluation function\n",
    "#Set logic into classes?\n",
    "#AUTO PULL SAMPLE DATA SHAPE INTO PROGRAM\n",
    "\n",
    "\n",
    "#TODO 1.2\n",
    "#initialize different random seed each time, use mod of time?\n",
    "#change layer_dims to allow variable layers per unit\n",
    "#change to new structure\n",
    "#Add inhibitory functions\n",
    "#Change to RELU activation\n",
    "#allow for activations function change?\n",
    "#check to make sure Y1[x] = Y2[x]\n",
    "\n",
    "#TODO 1.3\n",
    "#Harp style connections, angled out for access to outputs\n",
    "\n",
    "#TODO for LTSM \n",
    "#change batch numbers to random number between 0 and total batches\n"
   ]
  },
  {
   "cell_type": "code",
   "execution_count": 3,
   "metadata": {},
   "outputs": [],
   "source": [
    "#Format Input Training Data\n",
    "def retrieve_traindata():\n",
    "    raw_train = pd.read_csv('../input/X_train.csv')\n",
    "    raw_train_key = pd.read_csv('../input/y_train.csv')\n",
    "    rangemax = raw_train.nlargest(1,'series_id')['series_id'].values\n",
    "    m = rangemax[0]+1\n",
    "\n",
    "    X_train = np.zeros((m, 1280)).astype(np.float32)\n",
    "    for i in range(m):\n",
    "        temp = raw_train.loc[raw_train['series_id'] == i].iloc[:,3:].values\n",
    "        for j in range(temp.shape[0]):\n",
    "            X_train[i,(temp.shape[1]*j):(temp.shape[1]*(1+j))] = temp[j]\n",
    "    \n",
    "    Y_train = np.zeros((m,2)).astype(np.float32)\n",
    "    Y_train = raw_train_key.values\n",
    "    \n",
    "    return X_train, Y_train\n",
    "\n",
    "def retrieve_traindata_extra():\n",
    "    raw_train = pd.read_csv('../input/X_train.csv')\n",
    "    raw_train_key = pd.read_csv('../input/y_train.csv')\n",
    "    rangemax = raw_train.nlargest(1,'series_id')['series_id'].values\n",
    "    m = rangemax[0]+1\n",
    "\n",
    "    X_train = np.zeros((m*4, 1280)).astype(np.float32)\n",
    "    for i in range(m):\n",
    "        temp = raw_train.loc[raw_train['series_id'] == i].iloc[:,3:].values\n",
    "        #print(\"Unfiltered: \", temp[1])\n",
    "        temp_position = temp.copy()\n",
    "        temp_position[:,4:].fill(0)\n",
    "        #print(\"Position: \", temp_position[1])\n",
    "        temp_velocity = temp.copy()\n",
    "        temp_velocity[:,:4].fill(0)\n",
    "        temp_velocity[:,7:].fill(0)\n",
    "        #print(\"Velocity: \", temp_velocity[1])\n",
    "        temp_accel = temp.copy()\n",
    "        temp_accel[:,:7].fill(0)\n",
    "        #print(\"Accel: \", temp_accel[1])\n",
    "        for j in range(temp.shape[0]):\n",
    "            X_train[i,(temp.shape[1]*j):(temp.shape[1]*(1+j))] = temp_position[j]\n",
    "            X_train[(i+m),(temp.shape[1]*j):(temp.shape[1]*(1+j))] = temp_velocity[j]\n",
    "            X_train[(i+(2*m)),(temp.shape[1]*j):(temp.shape[1]*(1+j))] = temp_accel[j]\n",
    "            X_train[(i+(3*m)),(temp.shape[1]*j):(temp.shape[1]*(1+j))] = temp[j]\n",
    "    \n",
    "    Y_temp = np.zeros((m,2)).astype(np.float32)\n",
    "    Y_temp = raw_train_key.values\n",
    "    \n",
    "    Y_temp2 = np.concatenate((Y_temp, Y_temp), axis=0)\n",
    "    Y_train = np.concatenate((Y_temp2, Y_temp2), axis=0)\n",
    "    \n",
    "    return X_train, Y_train\n",
    "\n",
    "\n",
    "\n",
    "#Format Input Testing Data\n",
    "def retrieve_testdata():\n",
    "    raw_test = pd.read_csv('../input/X_test.csv')\n",
    "    rangemax = raw_test.nlargest(1,'series_id')['series_id'].values\n",
    "    m = rangemax[0]+1\n",
    "\n",
    "    X_test = np.zeros((m, 1280)).astype(np.float32)\n",
    "    for i in range(m):\n",
    "        temp = raw_test.loc[raw_test['series_id'] == i].iloc[:,3:].values\n",
    "        for j in range(temp.shape[0]):\n",
    "            X_test[i,(temp.shape[1]*j):(temp.shape[1]*(1+j))] = temp[j]\n",
    "    \n",
    "\n",
    "    return X_test\n",
    "\n",
    "\n",
    "#preprocessing\n",
    "def dataprep_full(X_rough):\n",
    "    #Modify X input data to normalize the inputs\n",
    "    m, n_data = X_rough.shape\n",
    "    X_data = np.zeros((m, n_data*2)).astype(np.float32)\n",
    "    \n",
    "    data_neg = np.less(X_rough, 0)\n",
    "    data_pos = np.greater(X_rough, 0)\n",
    "    \n",
    "    neg_vals = np.multiply(X_rough,data_neg)\n",
    "    X_neg = neg_vals*-1\n",
    "    \n",
    "    X_pos = np.multiply(X_rough,data_pos)\n",
    "    \n",
    "    for i in range(m):\n",
    "        pos_scaled = MinMaxScaler(copy=True, feature_range=(0, 1)).fit_transform(X_pos[i].reshape(len(X_pos[i]), 1))\n",
    "        X_data[i,:n_data] = pos_scaled[:,0]\n",
    "        neg_scaled = MinMaxScaler(copy=True, feature_range=(0, 1)).fit_transform(X_neg[i].reshape(len(X_pos[i]), 1))\n",
    "        X_data[i,n_data:] = neg_scaled[:,0]\n",
    "    \n",
    "    return X_data\n",
    "\n",
    "\n",
    "#preprocessing\n",
    "def dataprep(X_rough):\n",
    "    #Modify X input data to normalize the inputs\n",
    "    m, n_data = X_rough.shape\n",
    "    X_data = np.zeros((m, n_data)).astype(np.float32)\n",
    "    \n",
    "    X_data = MinMaxScaler(copy=True, feature_range=(-1, 1)).fit_transform(X_rough)\n",
    "    \n",
    "    \n",
    "    return X_data\n",
    "\n",
    "\n",
    "#Modify the Y data into a one hot vector\n",
    "def ydata_to_onehot_full(Y_rough):\n",
    "    \n",
    "    #capture both surface identifier as well as the group id information into a one hot vector\n",
    "    m, y_len = Y_rough.shape\n",
    "    \n",
    "    #create one hot of surfaces\n",
    "    surfaces = Y_rough[:,2].T\n",
    "    surf_label_enc = LabelEncoder().fit_transform(surfaces)\n",
    "    onehot_surf = OneHotEncoder(sparse=False).fit_transform(surf_label_enc.reshape(len(surf_label_enc), 1))\n",
    "    \n",
    "    #create one hot of group_id's\n",
    "    groupid = Y_rough[:,1].T\n",
    "    groupid_label_enc = LabelEncoder().fit_transform(groupid)\n",
    "    onehot_groupid = OneHotEncoder(sparse=False).fit_transform(groupid_label_enc.reshape(len(groupid_label_enc), 1))\n",
    "    \n",
    "    #create empty array of shape (number of samples, number of different group_id's plus number of different surfaces)\n",
    "    Y_data = np.zeros((m, 73+9)).astype(np.int16)\n",
    "    \n",
    "    for i in range(m):\n",
    "        Y_data[i,:73] = onehot_groupid[i]\n",
    "        Y_data[i,73:] = onehot_surf[i]\n",
    "    \n",
    "    return Y_data\n",
    "\n",
    "\n",
    "#Modify the Y data into a one hot vector\n",
    "def ydata_to_onehot(Y_rough):\n",
    "    \n",
    "    #capture both surface identifier as well as the group id information into a one hot vector\n",
    "    m, y_len = Y_rough.shape\n",
    "    \n",
    "    #create one hot of surfaces\n",
    "    surfaces = Y_rough[:,2].T\n",
    "    \n",
    "    str_to_int = dict((c, i) for i, c in enumerate(label_conv))\n",
    "    # integer encode input data\n",
    "    integer_encoded = [str_to_int[char] for char in surfaces]\n",
    "    \n",
    "    # one hot encode\n",
    "    Y_data = np.zeros((m, 9)).astype(np.int16)\n",
    "    count = 0\n",
    "    for value in integer_encoded:\n",
    "        surf = [0 for _ in range(len(label_conv))]\n",
    "        surf[value] = 1\n",
    "        Y_data[count] = surf\n",
    "        count +=1\n",
    "    \n",
    "    return Y_data\n",
    "\n",
    "def onehot_to_labels(data):\n",
    "    \n",
    "    int_to_str = dict((i, c) for i, c in enumerate(label_conv))\n",
    "    predictions = []\n",
    "    for i in range(len(data)):\n",
    "        entry = (i,int_to_str[np.argmax(data[i])])\n",
    "        predictions.append(entry)\n",
    "    \n",
    "    return predictions"
   ]
  },
  {
   "cell_type": "code",
   "execution_count": 4,
   "metadata": {},
   "outputs": [
    {
     "name": "stdout",
     "output_type": "stream",
     "text": [
      "(3810, 1280)\n",
      "(3810, 3)\n",
      "(15240, 1280)\n",
      "(15240, 3)\n"
     ]
    }
   ],
   "source": [
    "X_rough1, Y_rough1 = retrieve_traindata()\n",
    "print(X_rough1.shape)\n",
    "print(Y_rough1.shape)\n",
    "#print(Y_rough1[1])\n",
    "X_rough2, Y_rough2 = retrieve_traindata_extra()\n",
    "print(X_rough2.shape)\n",
    "print(Y_rough2.shape)\n",
    "#print(Y_rough2[-5:])"
   ]
  },
  {
   "cell_type": "code",
   "execution_count": 5,
   "metadata": {},
   "outputs": [
    {
     "name": "stdout",
     "output_type": "stream",
     "text": [
      "(3810, 2560)\n"
     ]
    }
   ],
   "source": [
    "X = dataprep_full(X_rough1)\n",
    "X2 = dataprep_full(X_rough2)\n",
    "#print(X[5])\n",
    "print(X.shape)"
   ]
  },
  {
   "cell_type": "code",
   "execution_count": 6,
   "metadata": {},
   "outputs": [
    {
     "name": "stdout",
     "output_type": "stream",
     "text": [
      "(3810, 82)\n"
     ]
    },
    {
     "name": "stderr",
     "output_type": "stream",
     "text": [
      "/opt/conda/lib/python3.6/site-packages/sklearn/preprocessing/_encoders.py:371: FutureWarning: The handling of integer data will change in version 0.22. Currently, the categories are determined based on the range [0, max(values)], while in the future they will be determined based on the unique values.\n",
      "If you want the future behaviour and silence this warning, you can specify \"categories='auto'\".\n",
      "In case you used a LabelEncoder before this OneHotEncoder to convert the categories to integers, then you can now use the OneHotEncoder directly.\n",
      "  warnings.warn(msg, FutureWarning)\n",
      "/opt/conda/lib/python3.6/site-packages/sklearn/preprocessing/_encoders.py:371: FutureWarning: The handling of integer data will change in version 0.22. Currently, the categories are determined based on the range [0, max(values)], while in the future they will be determined based on the unique values.\n",
      "If you want the future behaviour and silence this warning, you can specify \"categories='auto'\".\n",
      "In case you used a LabelEncoder before this OneHotEncoder to convert the categories to integers, then you can now use the OneHotEncoder directly.\n",
      "  warnings.warn(msg, FutureWarning)\n",
      "/opt/conda/lib/python3.6/site-packages/sklearn/preprocessing/_encoders.py:371: FutureWarning: The handling of integer data will change in version 0.22. Currently, the categories are determined based on the range [0, max(values)], while in the future they will be determined based on the unique values.\n",
      "If you want the future behaviour and silence this warning, you can specify \"categories='auto'\".\n",
      "In case you used a LabelEncoder before this OneHotEncoder to convert the categories to integers, then you can now use the OneHotEncoder directly.\n",
      "  warnings.warn(msg, FutureWarning)\n",
      "/opt/conda/lib/python3.6/site-packages/sklearn/preprocessing/_encoders.py:371: FutureWarning: The handling of integer data will change in version 0.22. Currently, the categories are determined based on the range [0, max(values)], while in the future they will be determined based on the unique values.\n",
      "If you want the future behaviour and silence this warning, you can specify \"categories='auto'\".\n",
      "In case you used a LabelEncoder before this OneHotEncoder to convert the categories to integers, then you can now use the OneHotEncoder directly.\n",
      "  warnings.warn(msg, FutureWarning)\n"
     ]
    }
   ],
   "source": [
    "Y = ydata_to_onehot_full(Y_rough1)\n",
    "Y2 = ydata_to_onehot_full(Y_rough2)\n",
    "print(Y.shape)\n",
    "#print(Y[1000])"
   ]
  },
  {
   "cell_type": "code",
   "execution_count": 7,
   "metadata": {
    "_kg_hide-input": false
   },
   "outputs": [],
   "source": [
    "def network(input_shape):\n",
    "    \n",
    "    # Define the input as a tensor with shape input_shape\n",
    "    X_input = Input(input_shape)\n",
    "    \n",
    "    #Input Network\n",
    "    X = Dense(2560,input_shape=(2560,),activation='relu',kernel_initializer='TruncatedNormal')(X_input)\n",
    "    X = Dense(2560,activation='relu',kernel_initializer='TruncatedNormal')(X)\n",
    "    \n",
    "    #Exictatory Network\n",
    "\n",
    "    X = Dense(500,activation='relu',kernel_initializer='TruncatedNormal')(X)\n",
    "    X = Dense(500,activation='relu',kernel_initializer='TruncatedNormal')(X)\n",
    "    #X = Dense(500,activation='relu',kernel_initializer='TruncatedNormal')(X)\n",
    "    \n",
    "    \n",
    "    #Pass Through Excitatory Weights\n",
    "    X_shortcut = X\n",
    "    \n",
    "    #Inhibitory Network\n",
    "    X = Dense(500,activation='relu',kernel_initializer='TruncatedNormal')(X)\n",
    "    X = Dense(500,activation='relu',kernel_initializer='TruncatedNormal')(X)\n",
    "    #X = Dense(500,activation='relu',kernel_initializer='TruncatedNormal')(X)\n",
    "    \n",
    "    #Combine Excite and Inhibit Networks\n",
    "    X = Subtract()([X_shortcut, X])\n",
    "    \n",
    "    #Create Passthrough for Weights\n",
    "    X_shortFinal = X\n",
    "    \n",
    "    #Decision Network\n",
    "    X = Dense(1000,activation='relu',kernel_initializer='TruncatedNormal')(X)\n",
    "    X = Dense(1000,activation='relu',kernel_initializer='TruncatedNormal')(X)\n",
    "    #X = Dense(1000,activation='relu',kernel_initializer='TruncatedNormal')(X)\n",
    "    X = Dense(500,activation='relu',kernel_initializer='TruncatedNormal')(X)\n",
    "    \n",
    "    #Combine Total Networks\n",
    "    X = Add()([X, X_shortFinal])\n",
    "    X = Activation('relu')(X)\n",
    "    \n",
    "    #Output \n",
    "    X = Dense(82,activation='softmax')(X)\n",
    "    \n",
    "    model = Model(inputs = X_input, outputs = X, name='CarCon Net')\n",
    "    \n",
    "    return model\n",
    "\n",
    "    "
   ]
  },
  {
   "cell_type": "code",
   "execution_count": 8,
   "metadata": {},
   "outputs": [],
   "source": [
    "def network_LTSM(input_shape):\n",
    "    \n",
    "    # Define the input as a tensor with shape input_shape\n",
    "    X_input = Input(input_shape)\n",
    "    \n",
    "    #Input Network\n",
    "    X = Dense(2560,input_shape=(2560,),activation='relu',kernel_initializer='TruncatedNormal')(X_input)\n",
    "    X = Dense(2560,activation='relu',kernel_initializer='TruncatedNormal')(X)\n",
    "    \n",
    "    #Exictatory Network\n",
    "    #Y = Dense(500,activation='relu',kernel_initializer='TruncatedNormal')(X)\n",
    "    X = Dense(500,activation='relu',kernel_initializer='TruncatedNormal')(X)\n",
    "    \n",
    "    #X = Subtract()([X, Y])\n",
    "    #X = Activation('relu')(X)\n",
    "    \n",
    "    #Y = Dense(500,activation='relu',kernel_initializer='TruncatedNormal')(X)\n",
    "    X = Dense(500,activation='relu',kernel_initializer='TruncatedNormal')(X)\n",
    "    \n",
    "    #X = Subtract()([X, Y])\n",
    "    #X = Activation('relu')(X)\n",
    "    \n",
    "    #Pass Through Excitatory Weights\n",
    "    X_shortcut = X\n",
    "    \n",
    "    #Inhibitory Network\n",
    "    X = Dense(500,activation='relu',kernel_initializer='ones')(X)\n",
    "    X = Dense(500,activation='relu',kernel_initializer='ones')(X)\n",
    "    \n",
    "    #Combine Excite and Inhibit Networks\n",
    "    X = Subtract()([X_shortcut, X])\n",
    "    X = Activation('relu')(X)\n",
    "    \n",
    "    #Create Passthrough for Weights\n",
    "    X_shortFinal = X\n",
    "    \n",
    "    #Decision Network\n",
    "    X = Dense(1000,activation='relu',kernel_initializer='zeros')(X)\n",
    "    X = Dense(1000,activation='relu',kernel_initializer='zeros')(X)\n",
    "    X = Dense(1000,activation='relu',kernel_initializer='zeros')(X)\n",
    "    X = Dense(500,activation='relu',kernel_initializer='zeros')(X)\n",
    "    \n",
    "    #Combine Total Networks\n",
    "    X = Add()([X, X_shortFinal])\n",
    "    X = Activation('relu')(X)\n",
    "    \n",
    "    #Output \n",
    "    X = Dense(82,activation='softmax')(X)\n",
    "    \n",
    "    model = Model(inputs = X_input, outputs = X, name='CarCon Net')\n",
    "    \n",
    "    return model"
   ]
  },
  {
   "cell_type": "code",
   "execution_count": 9,
   "metadata": {},
   "outputs": [
    {
     "name": "stdout",
     "output_type": "stream",
     "text": [
      "WARNING:tensorflow:From /opt/conda/lib/python3.6/site-packages/tensorflow/python/framework/op_def_library.py:263: colocate_with (from tensorflow.python.framework.ops) is deprecated and will be removed in a future version.\n",
      "Instructions for updating:\n",
      "Colocations handled automatically by placer.\n"
     ]
    }
   ],
   "source": [
    "model = network(input_shape=X[0].shape)\n"
   ]
  },
  {
   "cell_type": "code",
   "execution_count": 10,
   "metadata": {},
   "outputs": [],
   "source": [
    "optimize = Adam(lr=0.001, beta_1=0.9, beta_2=0.999, epsilon=None, decay=0.0, amsgrad=False)\n",
    "#optimize = Adagrad(lr=0.02, epsilon=.01, decay=0.0)\n",
    "#optimize = SGD(lr=0.01, momentum=0.0, decay=0.0, nesterov=False)\n",
    "model.compile(optimizer=optimize, loss='categorical_crossentropy', metrics=['accuracy'])"
   ]
  },
  {
   "cell_type": "code",
   "execution_count": 11,
   "metadata": {},
   "outputs": [
    {
     "name": "stdout",
     "output_type": "stream",
     "text": [
      "WARNING:tensorflow:From /opt/conda/lib/python3.6/site-packages/tensorflow/python/ops/math_ops.py:3066: to_int32 (from tensorflow.python.ops.math_ops) is deprecated and will be removed in a future version.\n",
      "Instructions for updating:\n",
      "Use tf.cast instead.\n",
      "Epoch 1/100\n",
      "15240/15240 [==============================] - 6s 408us/step - loss: 7.0057 - acc: 0.0073\n",
      "Epoch 2/100\n",
      "15240/15240 [==============================] - 3s 221us/step - loss: 6.1951 - acc: 0.0259\n",
      "Epoch 3/100\n",
      "15240/15240 [==============================] - 3s 221us/step - loss: 5.8231 - acc: 0.0436\n",
      "Epoch 4/100\n",
      "15240/15240 [==============================] - 3s 221us/step - loss: 5.5882 - acc: 0.0515\n",
      "Epoch 5/100\n",
      "15240/15240 [==============================] - 3s 220us/step - loss: 5.3579 - acc: 0.0581\n",
      "Epoch 6/100\n",
      "15240/15240 [==============================] - 3s 221us/step - loss: 5.1760 - acc: 0.0670\n",
      "Epoch 7/100\n",
      "15240/15240 [==============================] - 3s 220us/step - loss: 4.9306 - acc: 0.0780\n",
      "Epoch 8/100\n",
      "15240/15240 [==============================] - 3s 222us/step - loss: 4.7233 - acc: 0.0919\n",
      "Epoch 9/100\n",
      "15240/15240 [==============================] - 3s 220us/step - loss: 4.5338 - acc: 0.1012\n",
      "Epoch 10/100\n",
      "15240/15240 [==============================] - 3s 219us/step - loss: 4.3660 - acc: 0.1140\n",
      "Epoch 11/100\n",
      "15240/15240 [==============================] - 3s 222us/step - loss: 4.1853 - acc: 0.1347\n",
      "Epoch 12/100\n",
      "15240/15240 [==============================] - 3s 221us/step - loss: 4.0514 - acc: 0.1484\n",
      "Epoch 13/100\n",
      "15240/15240 [==============================] - 3s 221us/step - loss: 3.9357 - acc: 0.1589\n",
      "Epoch 14/100\n",
      "15240/15240 [==============================] - 3s 220us/step - loss: 3.8295 - acc: 0.1756\n",
      "Epoch 15/100\n",
      "15240/15240 [==============================] - 3s 220us/step - loss: 3.7563 - acc: 0.1835\n",
      "Epoch 16/100\n",
      "15240/15240 [==============================] - 3s 221us/step - loss: 3.6561 - acc: 0.1923\n",
      "Epoch 17/100\n",
      "15240/15240 [==============================] - 3s 221us/step - loss: 3.5808 - acc: 0.1998\n",
      "Epoch 18/100\n",
      "15240/15240 [==============================] - 3s 221us/step - loss: 3.4972 - acc: 0.2127\n",
      "Epoch 19/100\n",
      "15240/15240 [==============================] - 3s 221us/step - loss: 3.4133 - acc: 0.2262\n",
      "Epoch 20/100\n",
      "15240/15240 [==============================] - 3s 221us/step - loss: 3.3770 - acc: 0.2250\n",
      "Epoch 21/100\n",
      "15240/15240 [==============================] - 3s 221us/step - loss: 3.3621 - acc: 0.2306\n",
      "Epoch 22/100\n",
      "15240/15240 [==============================] - 3s 222us/step - loss: 3.3117 - acc: 0.2365\n",
      "Epoch 23/100\n",
      "15240/15240 [==============================] - 3s 221us/step - loss: 3.2413 - acc: 0.2453\n",
      "Epoch 24/100\n",
      "15240/15240 [==============================] - 3s 220us/step - loss: 3.2176 - acc: 0.2507\n",
      "Epoch 25/100\n",
      "15240/15240 [==============================] - 3s 221us/step - loss: 3.1666 - acc: 0.2542\n",
      "Epoch 26/100\n",
      "15240/15240 [==============================] - 3s 221us/step - loss: 3.1492 - acc: 0.2556\n",
      "Epoch 27/100\n",
      "15240/15240 [==============================] - 3s 219us/step - loss: 3.1231 - acc: 0.2608\n",
      "Epoch 28/100\n",
      "15240/15240 [==============================] - 3s 220us/step - loss: 3.1190 - acc: 0.2629\n",
      "Epoch 29/100\n",
      "15240/15240 [==============================] - 3s 222us/step - loss: 3.0040 - acc: 0.2686\n",
      "Epoch 30/100\n",
      "15240/15240 [==============================] - 3s 221us/step - loss: 2.9954 - acc: 0.2734\n",
      "Epoch 31/100\n",
      "15240/15240 [==============================] - 3s 221us/step - loss: 2.9602 - acc: 0.2756\n",
      "Epoch 32/100\n",
      "15240/15240 [==============================] - 3s 222us/step - loss: 2.9689 - acc: 0.2778\n",
      "Epoch 33/100\n",
      "15240/15240 [==============================] - 3s 221us/step - loss: 2.9692 - acc: 0.2748\n",
      "Epoch 34/100\n",
      "15240/15240 [==============================] - 3s 221us/step - loss: 2.9240 - acc: 0.2824\n",
      "Epoch 35/100\n",
      "15240/15240 [==============================] - 3s 219us/step - loss: 2.9037 - acc: 0.2886\n",
      "Epoch 36/100\n",
      "15240/15240 [==============================] - 3s 219us/step - loss: 2.9019 - acc: 0.2856\n",
      "Epoch 37/100\n",
      "15240/15240 [==============================] - 3s 221us/step - loss: 2.8712 - acc: 0.2949\n",
      "Epoch 38/100\n",
      "15240/15240 [==============================] - 3s 222us/step - loss: 2.8070 - acc: 0.2918\n",
      "Epoch 39/100\n",
      "15240/15240 [==============================] - 3s 220us/step - loss: 2.8178 - acc: 0.2995\n",
      "Epoch 40/100\n",
      "15240/15240 [==============================] - 3s 220us/step - loss: 2.7598 - acc: 0.3002\n",
      "Epoch 41/100\n",
      "15240/15240 [==============================] - 3s 220us/step - loss: 2.7336 - acc: 0.3068\n",
      "Epoch 42/100\n",
      "15240/15240 [==============================] - 3s 219us/step - loss: 2.7726 - acc: 0.3035\n",
      "Epoch 43/100\n",
      "15240/15240 [==============================] - 3s 219us/step - loss: 2.7912 - acc: 0.3086\n",
      "Epoch 44/100\n",
      "15240/15240 [==============================] - 3s 221us/step - loss: 2.7337 - acc: 0.3096\n",
      "Epoch 45/100\n",
      "15240/15240 [==============================] - 3s 220us/step - loss: 2.7174 - acc: 0.3051\n",
      "Epoch 46/100\n",
      "15240/15240 [==============================] - 3s 220us/step - loss: 2.7329 - acc: 0.3098\n",
      "Epoch 47/100\n",
      "15240/15240 [==============================] - 3s 222us/step - loss: 2.7124 - acc: 0.3113\n",
      "Epoch 48/100\n",
      "15240/15240 [==============================] - 3s 219us/step - loss: 2.6619 - acc: 0.3167\n",
      "Epoch 49/100\n",
      "15240/15240 [==============================] - 3s 221us/step - loss: 2.6419 - acc: 0.3238\n",
      "Epoch 50/100\n",
      "15240/15240 [==============================] - 3s 220us/step - loss: 2.5898 - acc: 0.3253\n",
      "Epoch 51/100\n",
      "15240/15240 [==============================] - 3s 221us/step - loss: 2.6296 - acc: 0.3229\n",
      "Epoch 52/100\n",
      "15240/15240 [==============================] - 3s 221us/step - loss: 2.6293 - acc: 0.3186\n",
      "Epoch 53/100\n",
      "15240/15240 [==============================] - 3s 220us/step - loss: 2.6408 - acc: 0.3190\n",
      "Epoch 54/100\n",
      "15240/15240 [==============================] - 3s 219us/step - loss: 2.6610 - acc: 0.3239\n",
      "Epoch 55/100\n",
      "15240/15240 [==============================] - 3s 219us/step - loss: 2.6348 - acc: 0.3167\n",
      "Epoch 56/100\n",
      "15240/15240 [==============================] - 3s 220us/step - loss: 2.5483 - acc: 0.3312\n",
      "Epoch 57/100\n",
      "15240/15240 [==============================] - 3s 218us/step - loss: 2.5086 - acc: 0.3353\n",
      "Epoch 58/100\n",
      "15240/15240 [==============================] - 3s 219us/step - loss: 2.5660 - acc: 0.3240\n",
      "Epoch 59/100\n",
      "15240/15240 [==============================] - 3s 226us/step - loss: 2.5627 - acc: 0.3275\n",
      "Epoch 60/100\n",
      "15240/15240 [==============================] - 3s 222us/step - loss: 2.4987 - acc: 0.3340\n",
      "Epoch 61/100\n",
      "15240/15240 [==============================] - 3s 220us/step - loss: 2.6032 - acc: 0.3261\n",
      "Epoch 62/100\n",
      "15240/15240 [==============================] - 3s 220us/step - loss: 2.5646 - acc: 0.3329\n",
      "Epoch 63/100\n",
      "15240/15240 [==============================] - 3s 220us/step - loss: 2.5828 - acc: 0.3240\n",
      "Epoch 64/100\n",
      "15240/15240 [==============================] - 3s 221us/step - loss: 2.5722 - acc: 0.3311\n",
      "Epoch 65/100\n",
      "15240/15240 [==============================] - 3s 221us/step - loss: 2.4952 - acc: 0.3377\n",
      "Epoch 66/100\n",
      "15240/15240 [==============================] - 3s 220us/step - loss: 2.4968 - acc: 0.3354\n",
      "Epoch 67/100\n",
      "15240/15240 [==============================] - 3s 219us/step - loss: 2.4927 - acc: 0.3310\n",
      "Epoch 68/100\n",
      "15240/15240 [==============================] - 3s 221us/step - loss: 2.4922 - acc: 0.3395\n",
      "Epoch 69/100\n",
      "15240/15240 [==============================] - 3s 221us/step - loss: 2.5493 - acc: 0.3268\n",
      "Epoch 70/100\n",
      "15240/15240 [==============================] - 3s 221us/step - loss: 2.4592 - acc: 0.3451\n",
      "Epoch 71/100\n",
      "15240/15240 [==============================] - 3s 221us/step - loss: 2.4729 - acc: 0.3417\n",
      "Epoch 72/100\n",
      "15240/15240 [==============================] - 3s 221us/step - loss: 2.4451 - acc: 0.3381\n",
      "Epoch 73/100\n",
      "15240/15240 [==============================] - 3s 220us/step - loss: 2.4526 - acc: 0.3438\n",
      "Epoch 74/100\n",
      "15240/15240 [==============================] - 3s 220us/step - loss: 2.4784 - acc: 0.3405\n",
      "Epoch 75/100\n",
      "15240/15240 [==============================] - 3s 220us/step - loss: 2.4666 - acc: 0.3400\n",
      "Epoch 76/100\n",
      "15240/15240 [==============================] - 3s 221us/step - loss: 2.4101 - acc: 0.3439\n",
      "Epoch 77/100\n",
      "15240/15240 [==============================] - 3s 222us/step - loss: 2.4123 - acc: 0.3512\n",
      "Epoch 78/100\n",
      "15240/15240 [==============================] - 3s 221us/step - loss: 2.4865 - acc: 0.3436\n",
      "Epoch 79/100\n",
      "15240/15240 [==============================] - 3s 222us/step - loss: 2.5039 - acc: 0.3387\n",
      "Epoch 80/100\n",
      "15240/15240 [==============================] - 3s 222us/step - loss: 2.4323 - acc: 0.3449\n",
      "Epoch 81/100\n",
      "15240/15240 [==============================] - 3s 222us/step - loss: 2.4138 - acc: 0.3434\n",
      "Epoch 82/100\n",
      "15240/15240 [==============================] - 3s 220us/step - loss: 2.4070 - acc: 0.3459\n",
      "Epoch 83/100\n",
      "15240/15240 [==============================] - 3s 224us/step - loss: 2.3992 - acc: 0.3513\n",
      "Epoch 84/100\n",
      "15240/15240 [==============================] - 3s 220us/step - loss: 2.3891 - acc: 0.3503\n",
      "Epoch 85/100\n",
      "15240/15240 [==============================] - 3s 221us/step - loss: 2.3658 - acc: 0.3517\n",
      "Epoch 86/100\n",
      "15240/15240 [==============================] - 3s 222us/step - loss: 2.4066 - acc: 0.3494\n",
      "Epoch 87/100\n",
      "15240/15240 [==============================] - 3s 220us/step - loss: 2.4117 - acc: 0.3547\n",
      "Epoch 88/100\n",
      "15240/15240 [==============================] - 3s 221us/step - loss: 2.3834 - acc: 0.3539\n",
      "Epoch 89/100\n",
      "15240/15240 [==============================] - 3s 221us/step - loss: 2.3804 - acc: 0.3556\n",
      "Epoch 90/100\n",
      "15240/15240 [==============================] - 3s 221us/step - loss: 2.3783 - acc: 0.3476\n",
      "Epoch 91/100\n",
      "15240/15240 [==============================] - 3s 221us/step - loss: 2.4445 - acc: 0.3471\n",
      "Epoch 92/100\n",
      "15240/15240 [==============================] - 3s 221us/step - loss: 2.4177 - acc: 0.3411\n",
      "Epoch 93/100\n",
      "15240/15240 [==============================] - 3s 221us/step - loss: 2.3302 - acc: 0.3558\n",
      "Epoch 94/100\n",
      "15240/15240 [==============================] - 3s 221us/step - loss: 2.3410 - acc: 0.3540\n",
      "Epoch 95/100\n",
      "15240/15240 [==============================] - 3s 221us/step - loss: 2.3563 - acc: 0.3557\n",
      "Epoch 96/100\n",
      "13550/15240 [=========================>....] - ETA: 0s - loss: 2.3422 - acc: 0.3536"
     ]
    }
   ],
   "source": [
    "model.fit(X2, Y2, epochs = 100, batch_size = 50)\n",
    "model.fit(X, Y, epochs = 100, batch_size = 50)"
   ]
  },
  {
   "cell_type": "code",
   "execution_count": 12,
   "metadata": {},
   "outputs": [],
   "source": [
    "X_rough_test = retrieve_testdata()"
   ]
  },
  {
   "cell_type": "code",
   "execution_count": 13,
   "metadata": {},
   "outputs": [
    {
     "data": {
      "text/plain": [
       "(3816, 1280)"
      ]
     },
     "execution_count": 13,
     "metadata": {},
     "output_type": "execute_result"
    }
   ],
   "source": [
    "X_rough_test.shape"
   ]
  },
  {
   "cell_type": "code",
   "execution_count": 14,
   "metadata": {},
   "outputs": [],
   "source": [
    "X_test = dataprep_full(X_rough_test)"
   ]
  },
  {
   "cell_type": "code",
   "execution_count": 15,
   "metadata": {},
   "outputs": [
    {
     "data": {
      "text/plain": [
       "(3816, 2560)"
      ]
     },
     "execution_count": 15,
     "metadata": {},
     "output_type": "execute_result"
    }
   ],
   "source": [
    "X_test.shape"
   ]
  },
  {
   "cell_type": "code",
   "execution_count": 16,
   "metadata": {},
   "outputs": [],
   "source": [
    "predict_raw = model.predict(X_test)"
   ]
  },
  {
   "cell_type": "code",
   "execution_count": 17,
   "metadata": {},
   "outputs": [
    {
     "name": "stdout",
     "output_type": "stream",
     "text": [
      "(3816, 82)\n"
     ]
    }
   ],
   "source": [
    "predict = (predict_raw > .5)\n",
    "print(predict.shape)"
   ]
  },
  {
   "cell_type": "code",
   "execution_count": 18,
   "metadata": {},
   "outputs": [],
   "source": [
    "#predict_labels = onehot_to_labels(predict[:,73:])\n",
    "#predict_labels = onehot_to_labels(predict)\n",
    "#predict_labels = onehot_to_labels(predict_raw)\n",
    "predict_labels = onehot_to_labels(predict_raw[:,73:])"
   ]
  },
  {
   "cell_type": "code",
   "execution_count": 19,
   "metadata": {},
   "outputs": [],
   "source": [
    "col_labels = ['series_id', 'surface']\n",
    "prediction_pd = pd.DataFrame.from_records(predict_labels, columns=col_labels)"
   ]
  },
  {
   "cell_type": "code",
   "execution_count": 20,
   "metadata": {},
   "outputs": [
    {
     "data": {
      "text/plain": [
       "(3816, 2)"
      ]
     },
     "execution_count": 20,
     "metadata": {},
     "output_type": "execute_result"
    }
   ],
   "source": [
    "prediction_pd.shape"
   ]
  },
  {
   "cell_type": "code",
   "execution_count": 21,
   "metadata": {},
   "outputs": [],
   "source": [
    "prediction_pd.to_csv('X_test_submission10.csv', encoding='utf-8', index=False)"
   ]
  },
  {
   "cell_type": "code",
   "execution_count": 22,
   "metadata": {},
   "outputs": [
    {
     "name": "stdout",
     "output_type": "stream",
     "text": [
      "__________________________________________________________________________________________________\n",
      "Layer (type)                    Output Shape         Param #     Connected to                     \n",
      "==================================================================================================\n",
      "input_1 (InputLayer)            (None, 2560)         0                                            \n",
      "__________________________________________________________________________________________________\n",
      "dense_1 (Dense)                 (None, 2560)         6556160     input_1[0][0]                    \n",
      "__________________________________________________________________________________________________\n",
      "dense_2 (Dense)                 (None, 2560)         6556160     dense_1[0][0]                    \n",
      "__________________________________________________________________________________________________\n",
      "dense_3 (Dense)                 (None, 500)          1280500     dense_2[0][0]                    \n",
      "__________________________________________________________________________________________________\n",
      "dense_4 (Dense)                 (None, 500)          250500      dense_3[0][0]                    \n",
      "__________________________________________________________________________________________________\n",
      "dense_5 (Dense)                 (None, 500)          250500      dense_4[0][0]                    \n",
      "__________________________________________________________________________________________________\n",
      "dense_6 (Dense)                 (None, 500)          250500      dense_5[0][0]                    \n",
      "__________________________________________________________________________________________________\n",
      "subtract_1 (Subtract)           (None, 500)          0           dense_4[0][0]                    \n",
      "                                                                 dense_6[0][0]                    \n",
      "__________________________________________________________________________________________________\n",
      "dense_7 (Dense)                 (None, 1000)         501000      subtract_1[0][0]                 \n",
      "__________________________________________________________________________________________________\n",
      "dense_8 (Dense)                 (None, 1000)         1001000     dense_7[0][0]                    \n",
      "__________________________________________________________________________________________________\n",
      "dense_9 (Dense)                 (None, 500)          500500      dense_8[0][0]                    \n",
      "__________________________________________________________________________________________________\n",
      "add_1 (Add)                     (None, 500)          0           dense_9[0][0]                    \n",
      "                                                                 subtract_1[0][0]                 \n",
      "__________________________________________________________________________________________________\n",
      "activation_1 (Activation)       (None, 500)          0           add_1[0][0]                      \n",
      "__________________________________________________________________________________________________\n",
      "dense_10 (Dense)                (None, 82)           41082       activation_1[0][0]               \n",
      "==================================================================================================\n",
      "Total params: 17,187,902\n",
      "Trainable params: 17,187,902\n",
      "Non-trainable params: 0\n",
      "__________________________________________________________________________________________________\n"
     ]
    }
   ],
   "source": [
    "model.summary()"
   ]
  }
 ],
 "metadata": {
  "kernelspec": {
   "display_name": "Python 3",
   "language": "python",
   "name": "python3"
  },
  "language_info": {
   "codemirror_mode": {
    "name": "ipython",
    "version": 3
   },
   "file_extension": ".py",
   "mimetype": "text/x-python",
   "name": "python",
   "nbconvert_exporter": "python",
   "pygments_lexer": "ipython3",
   "version": "3.6.6"
  }
 },
 "nbformat": 4,
 "nbformat_minor": 1
}
